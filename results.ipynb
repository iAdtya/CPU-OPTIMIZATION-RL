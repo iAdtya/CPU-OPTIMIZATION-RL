{
 "cells": [
  {
   "cell_type": "code",
   "execution_count": 1,
   "metadata": {},
   "outputs": [],
   "source": [
    "import numpy as np\n",
    "import matplotlib.pyplot as plt\n",
    "import pandas as pd\n",
    "from Schedulers.round_robin import RoundRobin\n",
    "from Schedulers.ml_prio import MLPriority"
   ]
  },
  {
   "cell_type": "code",
   "execution_count": 2,
   "metadata": {},
   "outputs": [],
   "source": [
    "test1 = [\n",
    "    'dataset/test/test1-1.csv',\n",
    "    'dataset/test/test1-2.csv',\n",
    "    'dataset/test/test1-3.csv',\n",
    "    'dataset/test/test1-4.csv',\n",
    "    #'dataset/test/test1-5.csv'\n",
    "]\n",
    "test2 = [\n",
    "    'dataset/test/test2-1.csv',\n",
    "    'dataset/test/test2-2.csv',\n",
    "    'dataset/test/test2-3.csv',\n",
    "    'dataset/test/test2-4.csv'\n",
    "]\n",
    "test3 = [\n",
    "    'dataset/test/test3-1.csv',\n",
    "    'dataset/test/test3-2.csv',\n",
    "    'dataset/test/test3-3.csv',\n",
    "    'dataset/test/test3-4.csv'\n",
    "]"
   ]
  },
  {
   "cell_type": "code",
   "execution_count": 3,
   "metadata": {},
   "outputs": [],
   "source": [
    "schedulers = [RoundRobin,  MLPriority]\n",
    "encoder_context = 30\n",
    "max_priority = 10\n",
    "\n",
    "calculated_stats = ['turnaround', 'cpu_util', 'throughput', 'response_time', 'waiting_time', 'runtime', 'mean_runtime']\n",
    "scheduler_names = [ 'rr', 'ml_prio']\n",
    "\n",
    "def test_scheduler(scheduler, csv=\"./dataset/test.csv\", **kwargs):\n",
    "    data = np.genfromtxt(csv, delimiter=',', skip_header=1)\n",
    "    sched = scheduler(data, **kwargs)\n",
    "    sched.time_run()  # This runs the scheduler and calculates runtime\n",
    "    sched.calc_stats()  # Calculate all other statistics\n",
    "    return sched\n"
   ]
  },
  {
   "cell_type": "code",
   "execution_count": 4,
   "metadata": {},
   "outputs": [],
   "source": [
    "test1_results = pd.DataFrame(columns=['n_procs'] + calculated_stats + ['scheduler'])\n",
    "test2_results = pd.DataFrame(columns=['distribution'] + calculated_stats + ['scheduler'])\n",
    "test3_results = pd.DataFrame(columns=['max_instructions'] + calculated_stats + ['scheduler'])"
   ]
  },
  {
   "cell_type": "code",
   "execution_count": 6,
   "metadata": {},
   "outputs": [
    {
     "name": "stdout",
     "output_type": "stream",
     "text": [
      "\t dataset/test/test1-1.csv\n",
      "\t\t rr\n",
      "\t\t ml_prio\n"
     ]
    },
    {
     "name": "stderr",
     "output_type": "stream",
     "text": [
      "d:\\CPU-OPTIMIZATION-RL\\Schedulers\\ml_prio.py:26: FutureWarning: You are using `torch.load` with `weights_only=False` (the current default value), which uses the default pickle module implicitly. It is possible to construct malicious pickle data which will execute arbitrary code during unpickling (See https://github.com/pytorch/pytorch/blob/main/SECURITY.md#untrusted-models for more details). In a future release, the default value for `weights_only` will be flipped to `True`. This limits the functions that could be executed during unpickling. Arbitrary objects will no longer be allowed to be loaded via this mode unless they are explicitly allowlisted by the user via `torch.serialization.add_safe_globals`. We recommend you start setting `weights_only=True` for any use case where you don't have full control of the loaded file. Please open an issue on GitHub for any issues related to this experimental feature.\n",
      "  torch.load(\"model_weights/ml_priority_scheduler_5mil_30context.pt\")\n"
     ]
    },
    {
     "name": "stdout",
     "output_type": "stream",
     "text": [
      "\t dataset/test/test1-2.csv\n",
      "\t\t rr\n",
      "\t\t ml_prio\n",
      "\t dataset/test/test1-3.csv\n",
      "\t\t rr\n",
      "\t\t ml_prio\n",
      "\t dataset/test/test1-4.csv\n",
      "\t\t rr\n",
      "\t\t ml_prio\n"
     ]
    },
    {
     "name": "stderr",
     "output_type": "stream",
     "text": [
      "C:\\Users\\ASUS\\AppData\\Local\\Temp\\ipykernel_56992\\3985456225.py:33: FutureWarning: The behavior of DataFrame concatenation with empty or all-NA entries is deprecated. In a future version, this will no longer exclude empty or all-NA columns when determining the result dtypes. To retain the old behavior, exclude the relevant entries before the concat operation.\n",
      "  test1_results = pd.concat([test1_results, pd.DataFrame(new_rows)], ignore_index=True)\n"
     ]
    }
   ],
   "source": [
    "# Instead of appending rows one by one, collect them in a list and then use pd.concat\n",
    "n_steps = [10,100,1000,10000,100000]\n",
    "\n",
    "new_rows = []\n",
    "\n",
    "for i in range(len(test1)):\n",
    "    test = test1[i]\n",
    "    print(\"\\t\", test)\n",
    "    for j in range(len(schedulers)):\n",
    "        print(\"\\t\\t\", scheduler_names[j])\n",
    "        sched = test_scheduler(\n",
    "            schedulers[j],\n",
    "            test,\n",
    "            encoder_context=encoder_context,\n",
    "            max_priority=max_priority,\n",
    "        )\n",
    "\n",
    "        new_row = {\n",
    "            \"n_procs\": n_steps[i],\n",
    "            \"turnaround\": sched.stat_turnaround_time,\n",
    "            \"cpu_util\": sched.stat_cpu_util,\n",
    "            \"throughput\": sched.stat_throughput,\n",
    "            \"response_time\": sched.stat_response_time,\n",
    "            \"waiting_time\": sched.stat_waiting_time,\n",
    "            \"runtime\": sched.stat_runtime,\n",
    "            \"mean_runtime\": sched.stat_mean_runtime,\n",
    "            \"scheduler\": scheduler_names[j],\n",
    "        }\n",
    "\n",
    "        new_rows.append(new_row)\n",
    "\n",
    "# Use pd.concat to create a DataFrame from the list of new rows\n",
    "test1_results = pd.concat([test1_results, pd.DataFrame(new_rows)], ignore_index=True)\n"
   ]
  },
  {
   "cell_type": "code",
   "execution_count": 7,
   "metadata": {},
   "outputs": [],
   "source": [
    "test1_results.to_csv('./results/new_test1_results.csv')"
   ]
  },
  {
   "cell_type": "code",
   "execution_count": 8,
   "metadata": {},
   "outputs": [
    {
     "name": "stdout",
     "output_type": "stream",
     "text": [
      "Test 2:\n",
      "\t dataset/test/test1-1.csv\n",
      "\t\t rr\n",
      "\t\t ml_prio\n"
     ]
    },
    {
     "name": "stderr",
     "output_type": "stream",
     "text": [
      "d:\\CPU-OPTIMIZATION-RL\\Schedulers\\ml_prio.py:26: FutureWarning: You are using `torch.load` with `weights_only=False` (the current default value), which uses the default pickle module implicitly. It is possible to construct malicious pickle data which will execute arbitrary code during unpickling (See https://github.com/pytorch/pytorch/blob/main/SECURITY.md#untrusted-models for more details). In a future release, the default value for `weights_only` will be flipped to `True`. This limits the functions that could be executed during unpickling. Arbitrary objects will no longer be allowed to be loaded via this mode unless they are explicitly allowlisted by the user via `torch.serialization.add_safe_globals`. We recommend you start setting `weights_only=True` for any use case where you don't have full control of the loaded file. Please open an issue on GitHub for any issues related to this experimental feature.\n",
      "  torch.load(\"model_weights/ml_priority_scheduler_5mil_30context.pt\")\n"
     ]
    },
    {
     "name": "stdout",
     "output_type": "stream",
     "text": [
      "\t dataset/test/test1-2.csv\n",
      "\t\t rr\n",
      "\t\t ml_prio\n",
      "\t dataset/test/test1-3.csv\n",
      "\t\t rr\n"
     ]
    },
    {
     "name": "stderr",
     "output_type": "stream",
     "text": [
      "d:\\CPU-OPTIMIZATION-RL\\Schedulers\\ml_prio.py:26: FutureWarning: You are using `torch.load` with `weights_only=False` (the current default value), which uses the default pickle module implicitly. It is possible to construct malicious pickle data which will execute arbitrary code during unpickling (See https://github.com/pytorch/pytorch/blob/main/SECURITY.md#untrusted-models for more details). In a future release, the default value for `weights_only` will be flipped to `True`. This limits the functions that could be executed during unpickling. Arbitrary objects will no longer be allowed to be loaded via this mode unless they are explicitly allowlisted by the user via `torch.serialization.add_safe_globals`. We recommend you start setting `weights_only=True` for any use case where you don't have full control of the loaded file. Please open an issue on GitHub for any issues related to this experimental feature.\n",
      "  torch.load(\"model_weights/ml_priority_scheduler_5mil_30context.pt\")\n"
     ]
    },
    {
     "name": "stdout",
     "output_type": "stream",
     "text": [
      "\t\t ml_prio\n"
     ]
    },
    {
     "name": "stderr",
     "output_type": "stream",
     "text": [
      "d:\\CPU-OPTIMIZATION-RL\\Schedulers\\ml_prio.py:26: FutureWarning: You are using `torch.load` with `weights_only=False` (the current default value), which uses the default pickle module implicitly. It is possible to construct malicious pickle data which will execute arbitrary code during unpickling (See https://github.com/pytorch/pytorch/blob/main/SECURITY.md#untrusted-models for more details). In a future release, the default value for `weights_only` will be flipped to `True`. This limits the functions that could be executed during unpickling. Arbitrary objects will no longer be allowed to be loaded via this mode unless they are explicitly allowlisted by the user via `torch.serialization.add_safe_globals`. We recommend you start setting `weights_only=True` for any use case where you don't have full control of the loaded file. Please open an issue on GitHub for any issues related to this experimental feature.\n",
      "  torch.load(\"model_weights/ml_priority_scheduler_5mil_30context.pt\")\n"
     ]
    },
    {
     "name": "stdout",
     "output_type": "stream",
     "text": [
      "\t dataset/test/test1-4.csv\n",
      "\t\t rr\n",
      "\t\t ml_prio\n"
     ]
    },
    {
     "name": "stderr",
     "output_type": "stream",
     "text": [
      "d:\\CPU-OPTIMIZATION-RL\\Schedulers\\ml_prio.py:26: FutureWarning: You are using `torch.load` with `weights_only=False` (the current default value), which uses the default pickle module implicitly. It is possible to construct malicious pickle data which will execute arbitrary code during unpickling (See https://github.com/pytorch/pytorch/blob/main/SECURITY.md#untrusted-models for more details). In a future release, the default value for `weights_only` will be flipped to `True`. This limits the functions that could be executed during unpickling. Arbitrary objects will no longer be allowed to be loaded via this mode unless they are explicitly allowlisted by the user via `torch.serialization.add_safe_globals`. We recommend you start setting `weights_only=True` for any use case where you don't have full control of the loaded file. Please open an issue on GitHub for any issues related to this experimental feature.\n",
      "  torch.load(\"model_weights/ml_priority_scheduler_5mil_30context.pt\")\n"
     ]
    }
   ],
   "source": [
    "# Test 2\n",
    "distribution = ['n', 'u', 'f', 'cs']\n",
    "\n",
    "print('Test 2:')\n",
    "for i in range(len(test1)):\n",
    "    test = test1[i]\n",
    "    print('\\t', test)\n",
    "    for j in range(len(schedulers)):\n",
    "        print('\\t\\t', scheduler_names[j])\n",
    "        sched = test_scheduler(schedulers[j], test, encoder_context=encoder_context, max_priority=max_priority)\n",
    "        test2_results.loc[0 if pd.isnull(test2_results.index.max()) else test2_results.index.max() + 1] = [\n",
    "            distribution[i], \n",
    "            sched.stat_cpu_util,\n",
    "            sched.stat_throughput,\n",
    "            sched.stat_turnaround_time,\n",
    "            sched.stat_response_time,\n",
    "            sched.stat_waiting_time,\n",
    "            sched.stat_runtime,\n",
    "            sched.stat_mean_runtime,\n",
    "            scheduler_names[j]\n",
    "        ]\n",
    "\n",
    "test2_results.to_csv('./results/new_test2_results.csv')"
   ]
  },
  {
   "cell_type": "code",
   "execution_count": 9,
   "metadata": {},
   "outputs": [
    {
     "name": "stdout",
     "output_type": "stream",
     "text": [
      "Test 3:\n",
      "\t dataset/test/test1-1.csv\n",
      "\t\t rr\n",
      "\t\t ml_prio\n"
     ]
    },
    {
     "name": "stderr",
     "output_type": "stream",
     "text": [
      "d:\\CPU-OPTIMIZATION-RL\\Schedulers\\ml_prio.py:26: FutureWarning: You are using `torch.load` with `weights_only=False` (the current default value), which uses the default pickle module implicitly. It is possible to construct malicious pickle data which will execute arbitrary code during unpickling (See https://github.com/pytorch/pytorch/blob/main/SECURITY.md#untrusted-models for more details). In a future release, the default value for `weights_only` will be flipped to `True`. This limits the functions that could be executed during unpickling. Arbitrary objects will no longer be allowed to be loaded via this mode unless they are explicitly allowlisted by the user via `torch.serialization.add_safe_globals`. We recommend you start setting `weights_only=True` for any use case where you don't have full control of the loaded file. Please open an issue on GitHub for any issues related to this experimental feature.\n",
      "  torch.load(\"model_weights/ml_priority_scheduler_5mil_30context.pt\")\n",
      "d:\\CPU-OPTIMIZATION-RL\\Schedulers\\ml_prio.py:26: FutureWarning: You are using `torch.load` with `weights_only=False` (the current default value), which uses the default pickle module implicitly. It is possible to construct malicious pickle data which will execute arbitrary code during unpickling (See https://github.com/pytorch/pytorch/blob/main/SECURITY.md#untrusted-models for more details). In a future release, the default value for `weights_only` will be flipped to `True`. This limits the functions that could be executed during unpickling. Arbitrary objects will no longer be allowed to be loaded via this mode unless they are explicitly allowlisted by the user via `torch.serialization.add_safe_globals`. We recommend you start setting `weights_only=True` for any use case where you don't have full control of the loaded file. Please open an issue on GitHub for any issues related to this experimental feature.\n",
      "  torch.load(\"model_weights/ml_priority_scheduler_5mil_30context.pt\")\n"
     ]
    },
    {
     "name": "stdout",
     "output_type": "stream",
     "text": [
      "\t dataset/test/test1-2.csv\n",
      "\t\t rr\n",
      "\t\t ml_prio\n",
      "\t dataset/test/test1-3.csv\n",
      "\t\t rr\n",
      "\t\t ml_prio\n"
     ]
    },
    {
     "name": "stderr",
     "output_type": "stream",
     "text": [
      "d:\\CPU-OPTIMIZATION-RL\\Schedulers\\ml_prio.py:26: FutureWarning: You are using `torch.load` with `weights_only=False` (the current default value), which uses the default pickle module implicitly. It is possible to construct malicious pickle data which will execute arbitrary code during unpickling (See https://github.com/pytorch/pytorch/blob/main/SECURITY.md#untrusted-models for more details). In a future release, the default value for `weights_only` will be flipped to `True`. This limits the functions that could be executed during unpickling. Arbitrary objects will no longer be allowed to be loaded via this mode unless they are explicitly allowlisted by the user via `torch.serialization.add_safe_globals`. We recommend you start setting `weights_only=True` for any use case where you don't have full control of the loaded file. Please open an issue on GitHub for any issues related to this experimental feature.\n",
      "  torch.load(\"model_weights/ml_priority_scheduler_5mil_30context.pt\")\n"
     ]
    },
    {
     "name": "stdout",
     "output_type": "stream",
     "text": [
      "\t dataset/test/test1-4.csv\n",
      "\t\t rr\n",
      "\t\t ml_prio\n"
     ]
    },
    {
     "name": "stderr",
     "output_type": "stream",
     "text": [
      "d:\\CPU-OPTIMIZATION-RL\\Schedulers\\ml_prio.py:26: FutureWarning: You are using `torch.load` with `weights_only=False` (the current default value), which uses the default pickle module implicitly. It is possible to construct malicious pickle data which will execute arbitrary code during unpickling (See https://github.com/pytorch/pytorch/blob/main/SECURITY.md#untrusted-models for more details). In a future release, the default value for `weights_only` will be flipped to `True`. This limits the functions that could be executed during unpickling. Arbitrary objects will no longer be allowed to be loaded via this mode unless they are explicitly allowlisted by the user via `torch.serialization.add_safe_globals`. We recommend you start setting `weights_only=True` for any use case where you don't have full control of the loaded file. Please open an issue on GitHub for any issues related to this experimental feature.\n",
      "  torch.load(\"model_weights/ml_priority_scheduler_5mil_30context.pt\")\n"
     ]
    }
   ],
   "source": [
    "# Test 3\n",
    "max_instructions = [2, 20, 200, 2000]\n",
    "\n",
    "print('Test 3:')\n",
    "for i in range(len(test1)):\n",
    "    test = test1[i]\n",
    "    print('\\t', test)\n",
    "    for j in range(len(schedulers)):\n",
    "        print('\\t\\t', scheduler_names[j])\n",
    "        sched = test_scheduler(schedulers[j], test, encoder_context=encoder_context, max_priority=max_priority)\n",
    "        test3_results.loc[0 if pd.isnull(test3_results.index.max()) else test3_results.index.max() + 1] = [\n",
    "            max_instructions[i], \n",
    "            sched.stat_cpu_util,\n",
    "            sched.stat_throughput,\n",
    "            sched.stat_turnaround_time,\n",
    "            sched.stat_response_time,\n",
    "            sched.stat_waiting_time,\n",
    "            sched.stat_runtime,\n",
    "            sched.stat_mean_runtime,\n",
    "            scheduler_names[j]\n",
    "        ]\n",
    "\n",
    "test3_results.to_csv('./results/new_test3_results.csv')\n"
   ]
  },
  {
   "cell_type": "code",
   "execution_count": 10,
   "metadata": {},
   "outputs": [],
   "source": [
    "test1 = [\n",
    "    'dataset/test/test1-1.csv',\n",
    "    'dataset/test/test1-2.csv',\n",
    "    'dataset/test/test1-3.csv',\n",
    "    'dataset/test/test1-4.csv',\n",
    "    'dataset/test/test1-5.csv'\n",
    "]\n",
    "test1_results = pd.DataFrame(columns=['n_procs'] + calculated_stats + ['scheduler'])"
   ]
  },
  {
   "cell_type": "code",
   "execution_count": 11,
   "metadata": {},
   "outputs": [
    {
     "name": "stdout",
     "output_type": "stream",
     "text": [
      "Test 1:\n",
      "\t dataset/test/test1-5.csv\n",
      "\t\t rr\n",
      "\t\t ml_prio\n"
     ]
    },
    {
     "name": "stderr",
     "output_type": "stream",
     "text": [
      "d:\\CPU-OPTIMIZATION-RL\\Schedulers\\ml_prio.py:26: FutureWarning: You are using `torch.load` with `weights_only=False` (the current default value), which uses the default pickle module implicitly. It is possible to construct malicious pickle data which will execute arbitrary code during unpickling (See https://github.com/pytorch/pytorch/blob/main/SECURITY.md#untrusted-models for more details). In a future release, the default value for `weights_only` will be flipped to `True`. This limits the functions that could be executed during unpickling. Arbitrary objects will no longer be allowed to be loaded via this mode unless they are explicitly allowlisted by the user via `torch.serialization.add_safe_globals`. We recommend you start setting `weights_only=True` for any use case where you don't have full control of the loaded file. Please open an issue on GitHub for any issues related to this experimental feature.\n",
      "  torch.load(\"model_weights/ml_priority_scheduler_5mil_30context.pt\")\n"
     ]
    }
   ],
   "source": [
    "# Test 1-5\n",
    "n_steps = [100000]\n",
    "\n",
    "print('Test 1:')\n",
    "i = 4\n",
    "test = test1[i]\n",
    "print('\\t', test)\n",
    "for j in range(len(schedulers)):\n",
    "    print('\\t\\t', scheduler_names[j])\n",
    "    sched = test_scheduler(schedulers[j], test, encoder_context=encoder_context, max_priority=max_priority)\n",
    "    test1_results.loc[0 if pd.isnull(test1_results.index.max()) else test1_results.index.max() + 1] = [\n",
    "        n_steps[0], \n",
    "        sched.stat_cpu_util,\n",
    "        sched.stat_throughput,\n",
    "        sched.stat_turnaround_time,\n",
    "        sched.stat_response_time,\n",
    "        sched.stat_waiting_time,\n",
    "        sched.stat_runtime,\n",
    "        sched.stat_mean_runtime,\n",
    "        scheduler_names[j]\n",
    "    ]\n",
    "\n",
    "test1_results.to_csv('./results/euu_test3_result3.csv')\n"
   ]
  },
  {
   "cell_type": "code",
   "execution_count": null,
   "metadata": {},
   "outputs": [],
   "source": []
  }
 ],
 "metadata": {
  "kernelspec": {
   "display_name": "ml",
   "language": "python",
   "name": "python3"
  },
  "language_info": {
   "codemirror_mode": {
    "name": "ipython",
    "version": 3
   },
   "file_extension": ".py",
   "mimetype": "text/x-python",
   "name": "python",
   "nbconvert_exporter": "python",
   "pygments_lexer": "ipython3",
   "version": "3.10.0"
  }
 },
 "nbformat": 4,
 "nbformat_minor": 2
}
