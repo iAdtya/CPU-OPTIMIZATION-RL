{
 "cells": [
  {
   "cell_type": "code",
   "execution_count": 1,
   "metadata": {},
   "outputs": [],
   "source": [
    "import numpy as np\n",
    "import matplotlib.pyplot as plt\n",
    "import pandas as pd\n",
    "\n",
    "from schedulers.round_robin import RoundRobin\n",
    "from schedulers.fifo import FIFO\n",
    "from schedulers.cfs import CFS\n",
    "from schedulers.ml_prio import MLPriority\n",
    "from schedulers.mlq import MLQ\n",
    "#from schedulers.mfq import MFQ"
   ]
  },
  {
   "cell_type": "code",
   "execution_count": 2,
   "metadata": {},
   "outputs": [],
   "source": [
    "test1 = [\n",
    "    'dataset/test/test1-1.csv',\n",
    "    'dataset/test/test1-2.csv',\n",
    "    'dataset/test/test1-3.csv',\n",
    "    'dataset/test/test1-4.csv',\n",
    "    #'dataset/test/test1-5.csv'\n",
    "]\n",
    "\n",
    "test2 = [\n",
    "    'dataset/test/test2-1.csv',\n",
    "    'dataset/test/test2-2.csv',\n",
    "    'dataset/test/test2-3.csv',\n",
    "    'dataset/test/test2-4.csv'\n",
    "]\n",
    "\n",
    "test3 = [\n",
    "    'dataset/test/test3-1.csv',\n",
    "    'dataset/test/test3-2.csv',\n",
    "    'dataset/test/test3-3.csv',\n",
    "    'dataset/test/test3-4.csv'\n",
    "]"
   ]
  },
  {
   "cell_type": "code",
   "execution_count": 3,
   "metadata": {},
   "outputs": [],
   "source": [
    "schedulers = [FIFO, RoundRobin, MLQ, CFS, MLPriority]\n",
    "encoder_context = 30\n",
    "max_priority = 10\n",
    "\n",
    "calculated_stats = ['CPU_util', 'throughput', 'turnaround', 'response', 'waiting', 'runtime', 'mean_runtime']\n",
    "scheduler_names = ['fifo', 'rr', 'mlq', 'cfs', 'ml_prio']"
   ]
  },
  {
   "cell_type": "code",
   "execution_count": 4,
   "metadata": {},
   "outputs": [
    {
     "name": "stdout",
     "output_type": "stream",
     "text": [
      "[]\n"
     ]
    },
    {
     "name": "stderr",
     "output_type": "stream",
     "text": [
      "C:\\Users\\ASUS\\AppData\\Local\\Temp\\ipykernel_15996\\3302920145.py:13: UserWarning: genfromtxt: Empty input file: \"./dataset/test.csv\"\n",
      "  data = np.genfromtxt(csv, delimiter=',', skip_header=1)\n"
     ]
    }
   ],
   "source": [
    "import pandas as pd \n",
    "\n",
    "data = pd.read_csv(\"./dataset/test.csv\")\n",
    "data.head()\n",
    "\t# PID\tArrivalTime\tInstructionCount\n",
    "# 0\t0\t1\t3\n",
    "# 1\t1\t1\t4\n",
    "# 2\t2\t6\t6\n",
    "# 3\t3\t6\t4\n",
    "# 4\t4\t10\t6\n",
    "\n",
    "csv=\"./dataset/test.csv\",\n",
    "data = np.genfromtxt(csv, delimiter=',', skip_header=1)\n",
    "print(data)  # []"
   ]
  },
  {
   "cell_type": "code",
   "execution_count": 5,
   "metadata": {},
   "outputs": [],
   "source": [
    "def test_scheduler(scheduler, csv=\"./dataset/test.csv\", **kwargs):\n",
    "    data = np.genfromtxt(csv, delimiter=',', skip_header=1)\n",
    "    sched = scheduler(data, **kwargs)\n",
    "    sched.time_run()\n",
    "    sched.calc_stats()\n",
    "    return sched\n"
   ]
  },
  {
   "cell_type": "code",
   "execution_count": 6,
   "metadata": {},
   "outputs": [],
   "source": [
    "test1_results = pd.DataFrame(columns=['n_procs'] + calculated_stats + ['scheduler'])\n",
    "test2_results = pd.DataFrame(columns=['distribution'] + calculated_stats + ['scheduler'])\n",
    "test3_results = pd.DataFrame(columns=['max_instructions'] + calculated_stats + ['scheduler'])"
   ]
  },
  {
   "cell_type": "code",
   "execution_count": 7,
   "metadata": {},
   "outputs": [
    {
     "name": "stdout",
     "output_type": "stream",
     "text": [
      "Test 1:\n",
      "\t dataset/test/test1-1.csv\n",
      "\t\t fifo\n",
      "\t\t rr\n",
      "\t\t mlq\n",
      "\t\t cfs\n",
      "\t\t ml_prio\n"
     ]
    },
    {
     "name": "stderr",
     "output_type": "stream",
     "text": [
      "d:\\CPU-OPTIMIZATION-RL\\schedulers\\ml_prio.py:26: FutureWarning: You are using `torch.load` with `weights_only=False` (the current default value), which uses the default pickle module implicitly. It is possible to construct malicious pickle data which will execute arbitrary code during unpickling (See https://github.com/pytorch/pytorch/blob/main/SECURITY.md#untrusted-models for more details). In a future release, the default value for `weights_only` will be flipped to `True`. This limits the functions that could be executed during unpickling. Arbitrary objects will no longer be allowed to be loaded via this mode unless they are explicitly allowlisted by the user via `torch.serialization.add_safe_globals`. We recommend you start setting `weights_only=True` for any use case where you don't have full control of the loaded file. Please open an issue on GitHub for any issues related to this experimental feature.\n",
      "  torch.load(\"model_weights/ml_priority_scheduler_5mil_30context.pt\")\n"
     ]
    },
    {
     "name": "stdout",
     "output_type": "stream",
     "text": [
      "\t dataset/test/test1-2.csv\n",
      "\t\t fifo\n",
      "\t\t rr\n",
      "\t\t mlq\n",
      "\t\t cfs\n",
      "\t\t ml_prio\n",
      "\t dataset/test/test1-3.csv\n",
      "\t\t fifo\n"
     ]
    },
    {
     "name": "stderr",
     "output_type": "stream",
     "text": [
      "d:\\CPU-OPTIMIZATION-RL\\schedulers\\ml_prio.py:26: FutureWarning: You are using `torch.load` with `weights_only=False` (the current default value), which uses the default pickle module implicitly. It is possible to construct malicious pickle data which will execute arbitrary code during unpickling (See https://github.com/pytorch/pytorch/blob/main/SECURITY.md#untrusted-models for more details). In a future release, the default value for `weights_only` will be flipped to `True`. This limits the functions that could be executed during unpickling. Arbitrary objects will no longer be allowed to be loaded via this mode unless they are explicitly allowlisted by the user via `torch.serialization.add_safe_globals`. We recommend you start setting `weights_only=True` for any use case where you don't have full control of the loaded file. Please open an issue on GitHub for any issues related to this experimental feature.\n",
      "  torch.load(\"model_weights/ml_priority_scheduler_5mil_30context.pt\")\n"
     ]
    },
    {
     "name": "stdout",
     "output_type": "stream",
     "text": [
      "\t\t rr\n",
      "\t\t mlq\n",
      "\t\t cfs\n",
      "\t\t ml_prio\n"
     ]
    },
    {
     "name": "stderr",
     "output_type": "stream",
     "text": [
      "d:\\CPU-OPTIMIZATION-RL\\schedulers\\ml_prio.py:26: FutureWarning: You are using `torch.load` with `weights_only=False` (the current default value), which uses the default pickle module implicitly. It is possible to construct malicious pickle data which will execute arbitrary code during unpickling (See https://github.com/pytorch/pytorch/blob/main/SECURITY.md#untrusted-models for more details). In a future release, the default value for `weights_only` will be flipped to `True`. This limits the functions that could be executed during unpickling. Arbitrary objects will no longer be allowed to be loaded via this mode unless they are explicitly allowlisted by the user via `torch.serialization.add_safe_globals`. We recommend you start setting `weights_only=True` for any use case where you don't have full control of the loaded file. Please open an issue on GitHub for any issues related to this experimental feature.\n",
      "  torch.load(\"model_weights/ml_priority_scheduler_5mil_30context.pt\")\n"
     ]
    },
    {
     "name": "stdout",
     "output_type": "stream",
     "text": [
      "\t dataset/test/test1-4.csv\n",
      "\t\t fifo\n",
      "\t\t rr\n",
      "\t\t mlq\n",
      "\t\t cfs\n",
      "\t\t ml_prio\n"
     ]
    },
    {
     "name": "stderr",
     "output_type": "stream",
     "text": [
      "d:\\CPU-OPTIMIZATION-RL\\schedulers\\ml_prio.py:26: FutureWarning: You are using `torch.load` with `weights_only=False` (the current default value), which uses the default pickle module implicitly. It is possible to construct malicious pickle data which will execute arbitrary code during unpickling (See https://github.com/pytorch/pytorch/blob/main/SECURITY.md#untrusted-models for more details). In a future release, the default value for `weights_only` will be flipped to `True`. This limits the functions that could be executed during unpickling. Arbitrary objects will no longer be allowed to be loaded via this mode unless they are explicitly allowlisted by the user via `torch.serialization.add_safe_globals`. We recommend you start setting `weights_only=True` for any use case where you don't have full control of the loaded file. Please open an issue on GitHub for any issues related to this experimental feature.\n",
      "  torch.load(\"model_weights/ml_priority_scheduler_5mil_30context.pt\")\n"
     ]
    }
   ],
   "source": [
    "# Test 1\n",
    "n_steps = [10,100,1000,10000,100000]\n",
    "\n",
    "print('Test 1:')\n",
    "for i in range(len(test1)):\n",
    "    test = test1[i]\n",
    "    print('\\t', test)\n",
    "    for j in range(len(schedulers)):\n",
    "        print('\\t\\t',scheduler_names[j])\n",
    "        sched = test_scheduler(schedulers[j], test, encoder_context=encoder_context, max_priority=max_priority)\n",
    "        test1_results.loc[0 if pd.isnull(test1_results.index.max()) else test1_results.index.max() + 1] = [\n",
    "            n_steps[i], \n",
    "            sched.stat_cpu_util,\n",
    "            sched.stat_throughput,\n",
    "            sched.stat_turnaround_time,\n",
    "            sched.stat_response_time,\n",
    "            sched.stat_waiting_time,\n",
    "            sched.stat_runtime,\n",
    "            sched.stat_mean_runtime,\n",
    "            scheduler_names[j]\n",
    "        ]\n"
   ]
  },
  {
   "cell_type": "code",
   "execution_count": 8,
   "metadata": {},
   "outputs": [],
   "source": [
    "test1_results.to_csv('./results/new_results.csv')"
   ]
  },
  {
   "cell_type": "code",
   "execution_count": 9,
   "metadata": {},
   "outputs": [
    {
     "name": "stdout",
     "output_type": "stream",
     "text": [
      "Test 2:\n",
      "\t dataset/test/test1-1.csv\n",
      "\t\t fifo\n",
      "\t\t rr\n",
      "\t\t mlq\n",
      "\t\t cfs\n",
      "\t\t ml_prio\n",
      "\t dataset/test/test1-2.csv\n",
      "\t\t fifo\n",
      "\t\t rr\n",
      "\t\t mlq\n",
      "\t\t cfs\n",
      "\t\t ml_prio\n"
     ]
    },
    {
     "name": "stderr",
     "output_type": "stream",
     "text": [
      "d:\\CPU-OPTIMIZATION-RL\\schedulers\\ml_prio.py:26: FutureWarning: You are using `torch.load` with `weights_only=False` (the current default value), which uses the default pickle module implicitly. It is possible to construct malicious pickle data which will execute arbitrary code during unpickling (See https://github.com/pytorch/pytorch/blob/main/SECURITY.md#untrusted-models for more details). In a future release, the default value for `weights_only` will be flipped to `True`. This limits the functions that could be executed during unpickling. Arbitrary objects will no longer be allowed to be loaded via this mode unless they are explicitly allowlisted by the user via `torch.serialization.add_safe_globals`. We recommend you start setting `weights_only=True` for any use case where you don't have full control of the loaded file. Please open an issue on GitHub for any issues related to this experimental feature.\n",
      "  torch.load(\"model_weights/ml_priority_scheduler_5mil_30context.pt\")\n",
      "d:\\CPU-OPTIMIZATION-RL\\schedulers\\ml_prio.py:26: FutureWarning: You are using `torch.load` with `weights_only=False` (the current default value), which uses the default pickle module implicitly. It is possible to construct malicious pickle data which will execute arbitrary code during unpickling (See https://github.com/pytorch/pytorch/blob/main/SECURITY.md#untrusted-models for more details). In a future release, the default value for `weights_only` will be flipped to `True`. This limits the functions that could be executed during unpickling. Arbitrary objects will no longer be allowed to be loaded via this mode unless they are explicitly allowlisted by the user via `torch.serialization.add_safe_globals`. We recommend you start setting `weights_only=True` for any use case where you don't have full control of the loaded file. Please open an issue on GitHub for any issues related to this experimental feature.\n",
      "  torch.load(\"model_weights/ml_priority_scheduler_5mil_30context.pt\")\n"
     ]
    },
    {
     "name": "stdout",
     "output_type": "stream",
     "text": [
      "\t dataset/test/test1-3.csv\n",
      "\t\t fifo\n",
      "\t\t rr\n",
      "\t\t mlq\n",
      "\t\t cfs\n",
      "\t\t ml_prio\n"
     ]
    },
    {
     "name": "stderr",
     "output_type": "stream",
     "text": [
      "d:\\CPU-OPTIMIZATION-RL\\schedulers\\ml_prio.py:26: FutureWarning: You are using `torch.load` with `weights_only=False` (the current default value), which uses the default pickle module implicitly. It is possible to construct malicious pickle data which will execute arbitrary code during unpickling (See https://github.com/pytorch/pytorch/blob/main/SECURITY.md#untrusted-models for more details). In a future release, the default value for `weights_only` will be flipped to `True`. This limits the functions that could be executed during unpickling. Arbitrary objects will no longer be allowed to be loaded via this mode unless they are explicitly allowlisted by the user via `torch.serialization.add_safe_globals`. We recommend you start setting `weights_only=True` for any use case where you don't have full control of the loaded file. Please open an issue on GitHub for any issues related to this experimental feature.\n",
      "  torch.load(\"model_weights/ml_priority_scheduler_5mil_30context.pt\")\n"
     ]
    },
    {
     "name": "stdout",
     "output_type": "stream",
     "text": [
      "\t dataset/test/test1-4.csv\n",
      "\t\t fifo\n",
      "\t\t rr\n",
      "\t\t mlq\n",
      "\t\t cfs\n",
      "\t\t ml_prio\n"
     ]
    },
    {
     "name": "stderr",
     "output_type": "stream",
     "text": [
      "d:\\CPU-OPTIMIZATION-RL\\schedulers\\ml_prio.py:26: FutureWarning: You are using `torch.load` with `weights_only=False` (the current default value), which uses the default pickle module implicitly. It is possible to construct malicious pickle data which will execute arbitrary code during unpickling (See https://github.com/pytorch/pytorch/blob/main/SECURITY.md#untrusted-models for more details). In a future release, the default value for `weights_only` will be flipped to `True`. This limits the functions that could be executed during unpickling. Arbitrary objects will no longer be allowed to be loaded via this mode unless they are explicitly allowlisted by the user via `torch.serialization.add_safe_globals`. We recommend you start setting `weights_only=True` for any use case where you don't have full control of the loaded file. Please open an issue on GitHub for any issues related to this experimental feature.\n",
      "  torch.load(\"model_weights/ml_priority_scheduler_5mil_30context.pt\")\n"
     ]
    }
   ],
   "source": [
    "# Test 2\n",
    "distribution = ['n', 'u', 'f', 'cs']\n",
    "\n",
    "print('Test 2:')\n",
    "for i in range(len(test1)):\n",
    "    test = test1[i]\n",
    "    print('\\t', test)\n",
    "    for j in range(len(schedulers)):\n",
    "        print('\\t\\t',scheduler_names[j])\n",
    "        sched = test_scheduler(schedulers[j], test, encoder_context=encoder_context, max_priority=max_priority)\n",
    "        test2_results.loc[0 if pd.isnull(test2_results.index.max()) else test2_results.index.max() + 1] = [\n",
    "            distribution[i], \n",
    "            sched.stat_cpu_util,\n",
    "            sched.stat_throughput,\n",
    "            sched.stat_turnaround_time,\n",
    "            sched.stat_response_time,\n",
    "            sched.stat_waiting_time,\n",
    "            sched.stat_runtime,\n",
    "            sched.stat_mean_runtime,\n",
    "            scheduler_names[j]\n",
    "        ]"
   ]
  },
  {
   "cell_type": "code",
   "execution_count": 10,
   "metadata": {},
   "outputs": [],
   "source": [
    "test2_results.to_csv('./results/new_results.csv')"
   ]
  },
  {
   "cell_type": "code",
   "execution_count": 11,
   "metadata": {},
   "outputs": [
    {
     "name": "stdout",
     "output_type": "stream",
     "text": [
      "Test 3:\n",
      "\t dataset/test/test1-1.csv\n",
      "\t\t fifo\n",
      "\t\t rr\n",
      "\t\t mlq\n",
      "\t\t cfs\n",
      "\t\t ml_prio\n",
      "\t dataset/test/test1-2.csv\n",
      "\t\t fifo\n",
      "\t\t rr\n",
      "\t\t mlq\n",
      "\t\t cfs\n",
      "\t\t ml_prio\n",
      "\t dataset/test/test1-3.csv\n",
      "\t\t fifo\n"
     ]
    },
    {
     "name": "stderr",
     "output_type": "stream",
     "text": [
      "d:\\CPU-OPTIMIZATION-RL\\schedulers\\ml_prio.py:26: FutureWarning: You are using `torch.load` with `weights_only=False` (the current default value), which uses the default pickle module implicitly. It is possible to construct malicious pickle data which will execute arbitrary code during unpickling (See https://github.com/pytorch/pytorch/blob/main/SECURITY.md#untrusted-models for more details). In a future release, the default value for `weights_only` will be flipped to `True`. This limits the functions that could be executed during unpickling. Arbitrary objects will no longer be allowed to be loaded via this mode unless they are explicitly allowlisted by the user via `torch.serialization.add_safe_globals`. We recommend you start setting `weights_only=True` for any use case where you don't have full control of the loaded file. Please open an issue on GitHub for any issues related to this experimental feature.\n",
      "  torch.load(\"model_weights/ml_priority_scheduler_5mil_30context.pt\")\n",
      "d:\\CPU-OPTIMIZATION-RL\\schedulers\\ml_prio.py:26: FutureWarning: You are using `torch.load` with `weights_only=False` (the current default value), which uses the default pickle module implicitly. It is possible to construct malicious pickle data which will execute arbitrary code during unpickling (See https://github.com/pytorch/pytorch/blob/main/SECURITY.md#untrusted-models for more details). In a future release, the default value for `weights_only` will be flipped to `True`. This limits the functions that could be executed during unpickling. Arbitrary objects will no longer be allowed to be loaded via this mode unless they are explicitly allowlisted by the user via `torch.serialization.add_safe_globals`. We recommend you start setting `weights_only=True` for any use case where you don't have full control of the loaded file. Please open an issue on GitHub for any issues related to this experimental feature.\n",
      "  torch.load(\"model_weights/ml_priority_scheduler_5mil_30context.pt\")\n"
     ]
    },
    {
     "name": "stdout",
     "output_type": "stream",
     "text": [
      "\t\t rr\n",
      "\t\t mlq\n",
      "\t\t cfs\n",
      "\t\t ml_prio\n"
     ]
    },
    {
     "name": "stderr",
     "output_type": "stream",
     "text": [
      "d:\\CPU-OPTIMIZATION-RL\\schedulers\\ml_prio.py:26: FutureWarning: You are using `torch.load` with `weights_only=False` (the current default value), which uses the default pickle module implicitly. It is possible to construct malicious pickle data which will execute arbitrary code during unpickling (See https://github.com/pytorch/pytorch/blob/main/SECURITY.md#untrusted-models for more details). In a future release, the default value for `weights_only` will be flipped to `True`. This limits the functions that could be executed during unpickling. Arbitrary objects will no longer be allowed to be loaded via this mode unless they are explicitly allowlisted by the user via `torch.serialization.add_safe_globals`. We recommend you start setting `weights_only=True` for any use case where you don't have full control of the loaded file. Please open an issue on GitHub for any issues related to this experimental feature.\n",
      "  torch.load(\"model_weights/ml_priority_scheduler_5mil_30context.pt\")\n"
     ]
    },
    {
     "name": "stdout",
     "output_type": "stream",
     "text": [
      "\t dataset/test/test1-4.csv\n",
      "\t\t fifo\n",
      "\t\t rr\n",
      "\t\t mlq\n",
      "\t\t cfs\n",
      "\t\t ml_prio\n"
     ]
    },
    {
     "name": "stderr",
     "output_type": "stream",
     "text": [
      "d:\\CPU-OPTIMIZATION-RL\\schedulers\\ml_prio.py:26: FutureWarning: You are using `torch.load` with `weights_only=False` (the current default value), which uses the default pickle module implicitly. It is possible to construct malicious pickle data which will execute arbitrary code during unpickling (See https://github.com/pytorch/pytorch/blob/main/SECURITY.md#untrusted-models for more details). In a future release, the default value for `weights_only` will be flipped to `True`. This limits the functions that could be executed during unpickling. Arbitrary objects will no longer be allowed to be loaded via this mode unless they are explicitly allowlisted by the user via `torch.serialization.add_safe_globals`. We recommend you start setting `weights_only=True` for any use case where you don't have full control of the loaded file. Please open an issue on GitHub for any issues related to this experimental feature.\n",
      "  torch.load(\"model_weights/ml_priority_scheduler_5mil_30context.pt\")\n"
     ]
    }
   ],
   "source": [
    "# Test 3\n",
    "max_instructions = [2, 20, 200, 2000]\n",
    "\n",
    "print('Test 3:')\n",
    "for i in range(len(test1)):\n",
    "    test = test1[i]\n",
    "    print('\\t', test)\n",
    "    for j in range(len(schedulers)):\n",
    "        print('\\t\\t',scheduler_names[j])\n",
    "        sched = test_scheduler(schedulers[j], test, encoder_context=encoder_context, max_priority=max_priority)\n",
    "        test3_results.loc[0 if pd.isnull(test3_results.index.max()) else test3_results.index.max() + 1] = [\n",
    "            max_instructions[i], \n",
    "            sched.stat_cpu_util,\n",
    "            sched.stat_throughput,\n",
    "            sched.stat_turnaround_time,\n",
    "            sched.stat_response_time,\n",
    "            sched.stat_waiting_time,\n",
    "            sched.stat_runtime,\n",
    "            sched.stat_mean_runtime,\n",
    "            scheduler_names[j]\n",
    "        ]"
   ]
  },
  {
   "cell_type": "code",
   "execution_count": 12,
   "metadata": {},
   "outputs": [],
   "source": [
    "test3_results.to_csv('./results/new_results.csv')"
   ]
  },
  {
   "cell_type": "code",
   "execution_count": 13,
   "metadata": {},
   "outputs": [],
   "source": [
    "test1 = [\n",
    "    'dataset/test/test1-1.csv',\n",
    "    'dataset/test/test1-2.csv',\n",
    "    'dataset/test/test1-3.csv',\n",
    "    'dataset/test/test1-4.csv',\n",
    "    'dataset/test/test1-5.csv'\n",
    "]\n",
    "test1_results = pd.DataFrame(columns=['n_procs'] + calculated_stats + ['scheduler'])"
   ]
  },
  {
   "cell_type": "code",
   "execution_count": 14,
   "metadata": {},
   "outputs": [
    {
     "name": "stdout",
     "output_type": "stream",
     "text": [
      "Test 1:\n",
      "\t dataset/test/test1-5.csv\n",
      "\t\t fifo\n",
      "\t\t rr\n",
      "\t\t mlq\n",
      "\t\t cfs\n"
     ]
    }
   ],
   "source": [
    "# Test 1-5\n",
    "n_steps = [100000]\n",
    "\n",
    "print('Test 1:')\n",
    "i=4\n",
    "test = test1[i]\n",
    "print('\\t', test)\n",
    "for j in range(len(schedulers)):\n",
    "    print('\\t\\t',scheduler_names[j])\n",
    "    sched = test_scheduler(schedulers[j], test, encoder_context=encoder_context, max_priority=max_priority)\n",
    "    test1_results.loc[0 if pd.isnull(test1_results.index.max()) else test1_results.index.max() + 1] = [\n",
    "        n_steps[0], \n",
    "        sched.stat_cpu_util,\n",
    "        sched.stat_throughput,\n",
    "        sched.stat_turnaround_time,\n",
    "        sched.stat_response_time,\n",
    "        sched.stat_waiting_time,\n",
    "        sched.stat_runtime,\n",
    "        sched.stat_mean_runtime,\n",
    "        scheduler_names[j]\n",
    "    ]\n"
   ]
  },
  {
   "cell_type": "code",
   "execution_count": null,
   "metadata": {},
   "outputs": [],
   "source": [
    "test1_results.to_csv('./results/euu_results3.csv')"
   ]
  }
 ],
 "metadata": {
  "kernelspec": {
   "display_name": "ml",
   "language": "python",
   "name": "python3"
  },
  "language_info": {
   "codemirror_mode": {
    "name": "ipython",
    "version": 3
   },
   "file_extension": ".py",
   "mimetype": "text/x-python",
   "name": "python",
   "nbconvert_exporter": "python",
   "pygments_lexer": "ipython3",
   "version": "3.10.0"
  }
 },
 "nbformat": 4,
 "nbformat_minor": 2
}
