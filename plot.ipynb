{
 "cells": [
  {
   "cell_type": "code",
   "execution_count": 1,
   "metadata": {},
   "outputs": [],
   "source": [
    "import numpy as np\n",
    "import matplotlib.pyplot as plt\n",
    "import pandas as pd"
   ]
  },
  {
   "cell_type": "code",
   "execution_count": 14,
   "metadata": {},
   "outputs": [],
   "source": [
    "def plot_figs(test_name, test_title, index):\n",
    "    plot_cols = [ 'turnaround']\n",
    "    plot_titles = [ 'Average Turnaround Time',]\n",
    "    plot_ylabel = [ 'Average Turnaround Time (units)']\n",
    "\n",
    "    test = pd.read_csv('./results/'+test_name+'_results3.csv', index_col=0)\n",
    "    for i in range(len(plot_cols)):\n",
    "        col = plot_cols[i]\n",
    "        pd.pivot_table(test, values=col, index=index, columns='scheduler').plot(kind='bar')\n",
    "        plt.title(test_title[0]+': '+plot_titles[i] + ' vs. '+test_title[1])\n",
    "        plt.ylabel(plot_ylabel[i])\n",
    "        plt.tight_layout()\n",
    "        plt.savefig('./figures/'+test_name+'/'+col+'.png', )\n",
    "        plt.close()"
   ]
  },
  {
   "cell_type": "code",
   "execution_count": 15,
   "metadata": {},
   "outputs": [],
   "source": [
    "plot_figs('euu', ['Test 1', 'Number of Processes'], 'n_procs')"
   ]
  },
  {
   "cell_type": "code",
   "execution_count": 16,
   "metadata": {},
   "outputs": [],
   "source": [
    "plot_figs('euu', ['Test 2', 'Distribution'], 'n_procs')"
   ]
  },
  {
   "cell_type": "code",
   "execution_count": 17,
   "metadata": {},
   "outputs": [],
   "source": [
    "plot_figs('euu', ['Test 2', 'Distribution'], 'n_procs')"
   ]
  },
  {
   "cell_type": "code",
   "execution_count": null,
   "metadata": {},
   "outputs": [],
   "source": []
  }
 ],
 "metadata": {
  "kernelspec": {
   "display_name": "cpu",
   "language": "python",
   "name": "python3"
  },
  "language_info": {
   "codemirror_mode": {
    "name": "ipython",
    "version": 3
   },
   "file_extension": ".py",
   "mimetype": "text/x-python",
   "name": "python",
   "nbconvert_exporter": "python",
   "pygments_lexer": "ipython3",
   "version": "3.10.0"
  }
 },
 "nbformat": 4,
 "nbformat_minor": 2
}
